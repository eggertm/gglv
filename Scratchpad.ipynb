{
 "cells": [
  {
   "cell_type": "code",
   "execution_count": 2,
   "metadata": {},
   "outputs": [],
   "source": [
    "import pandas\n",
    "x = pandas.read_csv('train.csv',index_col='id')\n",
    "y = x['loss'].values\n",
    "\n",
    "categoryColumnNames = [c for c in x.columns if c.startswith('cat')]\n",
    "convertedX = pandas.get_dummies(x,drop_first=True,columns = categoryColumnNames)\n",
    "goodColumnNames = [l for l in convertedX.columns if l not in ('id','loss')]\n",
    "X = convertedX.loc[:,goodColumnNames].values\n"
   ]
  },
  {
   "cell_type": "code",
   "execution_count": 29,
   "metadata": {},
   "outputs": [
    {
     "name": "stderr",
     "output_type": "stream",
     "text": [
      "C:\\ProgramData\\Anaconda3\\lib\\site-packages\\sklearn\\neural_network\\multilayer_perceptron.py:564: ConvergenceWarning: Stochastic Optimizer: Maximum iterations (200) reached and the optimization hasn't converged yet.\n",
      "  % self.max_iter, ConvergenceWarning)\n"
     ]
    },
    {
     "name": "stdout",
     "output_type": "stream",
     "text": [
      "0 1352.37938831 63.636780738830566\n",
      "1 1349.36131209 62.934173822402954\n"
     ]
    },
    {
     "ename": "KeyboardInterrupt",
     "evalue": "",
     "output_type": "error",
     "traceback": [
      "\u001b[1;31m---------------------------------------------------------------------------\u001b[0m",
      "\u001b[1;31mKeyboardInterrupt\u001b[0m                         Traceback (most recent call last)",
      "\u001b[1;32m<ipython-input-29-440c95a36996>\u001b[0m in \u001b[0;36m<module>\u001b[1;34m()\u001b[0m\n\u001b[0;32m     24\u001b[0m     \u001b[1;32mreturn\u001b[0m \u001b[0mmae\u001b[0m\u001b[1;33m\u001b[0m\u001b[0m\n\u001b[0;32m     25\u001b[0m \u001b[1;32mfor\u001b[0m \u001b[0mi\u001b[0m \u001b[1;32min\u001b[0m \u001b[0mrange\u001b[0m\u001b[1;33m(\u001b[0m\u001b[1;36m10\u001b[0m\u001b[1;33m)\u001b[0m\u001b[1;33m:\u001b[0m\u001b[1;31m#100,200,5):\u001b[0m\u001b[1;33m\u001b[0m\u001b[0m\n\u001b[1;32m---> 26\u001b[1;33m     \u001b[0mX_train\u001b[0m\u001b[1;33m,\u001b[0m \u001b[0mX_test\u001b[0m\u001b[1;33m,\u001b[0m \u001b[0my_train\u001b[0m\u001b[1;33m,\u001b[0m \u001b[0my_test\u001b[0m \u001b[1;33m=\u001b[0m \u001b[0mtrain_test_split\u001b[0m\u001b[1;33m(\u001b[0m\u001b[0mX\u001b[0m\u001b[1;33m,\u001b[0m \u001b[0mytransform\u001b[0m\u001b[1;33m,\u001b[0m \u001b[0mtest_size\u001b[0m\u001b[1;33m=\u001b[0m\u001b[1;36m0.20\u001b[0m\u001b[1;33m)\u001b[0m\u001b[1;33m\u001b[0m\u001b[0m\n\u001b[0m\u001b[0;32m     27\u001b[0m     \u001b[0mX_train20000\u001b[0m \u001b[1;33m=\u001b[0m \u001b[0mX_train\u001b[0m\u001b[1;33m[\u001b[0m\u001b[1;33m:\u001b[0m\u001b[1;36m20000\u001b[0m\u001b[1;33m,\u001b[0m\u001b[1;33m:\u001b[0m\u001b[1;33m]\u001b[0m\u001b[1;33m\u001b[0m\u001b[0m\n\u001b[0;32m     28\u001b[0m     \u001b[0my_train20000\u001b[0m \u001b[1;33m=\u001b[0m \u001b[0my_train\u001b[0m\u001b[1;33m[\u001b[0m\u001b[1;33m:\u001b[0m\u001b[1;36m20000\u001b[0m\u001b[1;33m]\u001b[0m\u001b[1;33m\u001b[0m\u001b[0m\n",
      "\u001b[1;32mC:\\ProgramData\\Anaconda3\\lib\\site-packages\\sklearn\\model_selection\\_split.py\u001b[0m in \u001b[0;36mtrain_test_split\u001b[1;34m(*arrays, **options)\u001b[0m\n\u001b[0;32m   2057\u001b[0m \u001b[1;33m\u001b[0m\u001b[0m\n\u001b[0;32m   2058\u001b[0m     return list(chain.from_iterable((safe_indexing(a, train),\n\u001b[1;32m-> 2059\u001b[1;33m                                      safe_indexing(a, test)) for a in arrays))\n\u001b[0m\u001b[0;32m   2060\u001b[0m \u001b[1;33m\u001b[0m\u001b[0m\n\u001b[0;32m   2061\u001b[0m \u001b[1;33m\u001b[0m\u001b[0m\n",
      "\u001b[1;32mC:\\ProgramData\\Anaconda3\\lib\\site-packages\\sklearn\\model_selection\\_split.py\u001b[0m in \u001b[0;36m<genexpr>\u001b[1;34m(.0)\u001b[0m\n\u001b[0;32m   2057\u001b[0m \u001b[1;33m\u001b[0m\u001b[0m\n\u001b[0;32m   2058\u001b[0m     return list(chain.from_iterable((safe_indexing(a, train),\n\u001b[1;32m-> 2059\u001b[1;33m                                      safe_indexing(a, test)) for a in arrays))\n\u001b[0m\u001b[0;32m   2060\u001b[0m \u001b[1;33m\u001b[0m\u001b[0m\n\u001b[0;32m   2061\u001b[0m \u001b[1;33m\u001b[0m\u001b[0m\n",
      "\u001b[1;31mKeyboardInterrupt\u001b[0m: "
     ]
    }
   ],
   "source": [
    "from sklearn import linear_model\n",
    "from sklearn.decomposition import PCA\n",
    "from sklearn.model_selection import train_test_split\n",
    "import matplotlib.pyplot\n",
    "ytransform = numpy.sqrt(y)\n",
    "#X_train, X_test, y_train, y_test = train_test_split(X, y, test_size=0.20)\n",
    "\n",
    "\n",
    "maes =[]\n",
    "def meanAbsErrorByComponents(components, hidden_layer, X_train, X_test, y_train, y_test):\n",
    "    pca = PCA(n_components=components)\n",
    "    \n",
    "    pca.fit(X_train)\n",
    "    X_train = pca.transform(X_train)\n",
    "    #X_train = StandardScaler().fit_transform(X_train)\n",
    "    X_test = pca.transform(X_test)\n",
    "    #X_test = StandardScaler().fit_transform(X_test)\n",
    "    reg =  MLPRegressor(hidden_layer_sizes=hidden_layer)\n",
    "    reg.fit(X_train,y_train)\n",
    "    y_pred = reg.predict(X_test)\n",
    "    y_pred = y_pred**2\n",
    "    mae = sum(abs(y_pred-(y_test)**2))/y_pred.shape[0]\n",
    "    #mae = sum(abs(y_pred-(y_test)))/y_pred.shape[0]\n",
    "    return mae\n",
    "for i in range(10):#100,200,5):\n",
    "    X_train, X_test, y_train, y_test = train_test_split(X, ytransform, test_size=0.20)\n",
    "    X_train20000 = X_train[:20000,:]\n",
    "    y_train20000 = y_train[:20000]\n",
    "    t = time.time()\n",
    "    m =  meanAbsErrorByComponents(115,(150,), X_train20000, X_test, y_train20000, y_test)\n",
    "    elapsed = time.time()-t\n",
    "    maes.append(m)\n",
    "    print (i,m,elapsed)\n",
    "matplotlib.pyplot.plot(maes)\n",
    "matplotlib.pyplot.show()"
   ]
  },
  {
   "cell_type": "code",
   "execution_count": null,
   "metadata": {},
   "outputs": [
    {
     "name": "stdout",
     "output_type": "stream",
     "text": [
      "Extra trees\n"
     ]
    }
   ],
   "source": [
    "from sklearn import linear_model\n",
    "from sklearn.model_selection import train_test_split\n",
    "X_train, X_test, y_train, y_test = train_test_split(X, y, test_size=0.20)\n",
    "from sklearn.neural_network import MLPRegressor\n",
    "from sklearn.ensemble import ExtraTreesRegressor\n",
    "from sklearn.neighbors import KNeighborsRegressor\n",
    "from sklearn.linear_model import LinearRegression, RidgeCV\n",
    "from sklearn.decomposition import PCA\n",
    "import time\n",
    "# Fit estimators\n",
    "ESTIMATORS = {\n",
    "    \"Extra trees\": ExtraTreesRegressor(n_estimators=50,  max_features=32, \n",
    "                                       criterion='mae'),\n",
    "    \"K-nn\": KNeighborsRegressor(),\n",
    "    \"Linear regression\": LinearRegression(),\n",
    "    \"Ridge\": RidgeCV(),\n",
    "    \"MLP\":  MLPRegressor(hidden_layer_sizes=(150,))\n",
    "}\n",
    "\n",
    "y_test_predict = {}\n",
    "\n",
    "for name, estimator in ESTIMATORS.items():\n",
    "    t_0 = time.time()\n",
    "    print(name)\n",
    "    if name in ('K-nn','MLP',\"Linear regression\"):\n",
    "        if name == 'MLP':\n",
    "            components = 115\n",
    "        elif name == 'K-nn':\n",
    "            components = 40\n",
    "        else:\n",
    "            components = 115\n",
    "        pca = PCA(n_components=components)\n",
    "    \n",
    "        pca.fit(X_train)\n",
    "        X_train_ = pca.transform(X_train)\n",
    "        X_test_ = pca.transform(X_test)\n",
    "    else:\n",
    "        X_train_ = X_train\n",
    "        X_test_ = X_test\n",
    "    estimator.fit(X_train_, y_train)\n",
    "    \n",
    "    t_1 = time.time()\n",
    "    print(f'Time elapsed for fitting of model {t_1 - t_0:.3f} sec')\n",
    "    y_test_predict[name] = estimator.predict(X_test_)\n",
    "    print(f'Time elapsed for prediction {time.time() - t_1:.3f} sec')\n",
    "    error = numpy.sum(numpy.abs(y_test_predict[name] - y_test)) / len(y_test)\n",
    "    print(f'error: {error:.3f}')\n"
   ]
  },
  {
   "cell_type": "code",
   "execution_count": null,
   "metadata": {},
   "outputs": [],
   "source": [
    "y_test_predict = {}\n",
    "for i in range(1,61):\n",
    "    pca = PCA(n_components=i)\n",
    "    \n",
    "    pca.fit(X_train)\n",
    "    X_train = pca.transform(X_train)\n",
    "    #X_train = StandardScaler().fit_transform(X_train)\n",
    "    X_test = pca.transform(X_test)\n",
    "    t_0 = time.time()\n",
    "    print(i)\n",
    "    estimator.fit(X_train, y_train)\n",
    "    \n",
    "    t_1 = time.time()\n",
    "    print(f'Time elapsed for fitting of model {t_1 - t_0:.3f} sec')\n",
    "    y_test_predict[i] = estimator.predict(X_test)\n",
    "    print(f'Time elapsed for prediction {time.time() - t_1:.3f} sec')\n",
    "    \n",
    "for components, y_hat in y_test_predict.items():\n",
    "    error = numpy.sum(numpy.abs(y_hat - y_test)) / len(y_test)\n",
    "    print(f'{components}, error: {error:.3f}')"
   ]
  },
  {
   "cell_type": "code",
   "execution_count": 6,
   "metadata": {},
   "outputs": [
    {
     "name": "stdout",
     "output_type": "stream",
     "text": [
      "Extra trees, error: 1319.217\n",
      "Linear regression, error: 67458088965.851\n",
      "Ridge, error: 1308.665\n",
      "MLP, error: 1194.157\n"
     ]
    }
   ],
   "source": [
    "import numpy\n",
    "for name, y_hat in y_test_predict.items():\n",
    "    error = numpy.sum(numpy.abs(y_hat - y_test)) / len(y_test)\n",
    "    print(f'{name}, error: {error:.3f}')"
   ]
  },
  {
   "cell_type": "code",
   "execution_count": 14,
   "metadata": {},
   "outputs": [
    {
     "data": {
      "image/png": "[encoded data removed]",
      "text/plain": [
       "<matplotlib.figure.Figure at 0x1f2800f2748>"
      ]
     },
     "metadata": {},
     "output_type": "display_data"
    }
   ],
   "source": [
    "import matplotlib.pyplot\n",
    "\n",
    "matplotlib.pyplot.plot(range(1,101),maes)\n",
    "matplotlib.pyplot.show()"
   ]
  },
  {
   "cell_type": "code",
   "execution_count": 23,
   "metadata": {},
   "outputs": [
    {
     "data": {
      "image/png": "[encoded data removed]",
      "text/plain": [
       "<matplotlib.figure.Figure at 0x1f2c4347f60>"
      ]
     },
     "metadata": {},
     "output_type": "display_data"
    }
   ],
   "source": [
    "#This shows that adding PCA components beyond >115 does not have much effect.\n",
    "matplotlib.pyplot.plot(range(1,161,4),maes)\n",
    "matplotlib.pyplot.show()"
   ]
  },
  {
   "cell_type": "code",
   "execution_count": null,
   "metadata": {},
   "outputs": [],
   "source": []
  }
 ],
 "metadata": {
  "kernelspec": {
   "display_name": "Python 3",
   "language": "python",
   "name": "python3"
  },
  "language_info": {
   "codemirror_mode": {
    "name": "ipython",
    "version": 3
   },
   "file_extension": ".py",
   "mimetype": "text/x-python",
   "name": "python",
   "nbconvert_exporter": "python",
   "pygments_lexer": "ipython3",
   "version": "3.6.5"
  }
 },
 "nbformat": 4,
 "nbformat_minor": 2
}
