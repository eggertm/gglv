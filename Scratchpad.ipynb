{
 "cells": [
  {
   "cell_type": "code",
   "execution_count": 92,
   "metadata": {},
   "outputs": [],
   "source": [
    "import pandas\n",
    "x = pandas.read_csv('train.csv')\n",
    "y = x['loss'].values\n",
    "\n",
    "categoryColumnNames = [c for c in x.columns if c.startswith('cat')]\n",
    "convertedX = pandas.get_dummies(x,columns = categoryColumnNames)\n",
    "goodColumnNames = [l for l in convertedX.columns if l not in ('id','loss')]\n",
    "X = convertedX.loc[:,goodColumnNames].values\n"
   ]
  },
  {
   "cell_type": "code",
   "execution_count": 88,
   "metadata": {},
   "outputs": [
    {
     "name": "stdout",
     "output_type": "stream",
     "text": [
      "1153\n",
      "['cont1', 'cont2', 'cont3', 'cont4', 'cont5', 'cont6', 'cont7', 'cont8', 'cont9', 'cont10', 'cont11', 'cont12', 'cont13', 'cont14', 'cat1_A', 'cat1_B', 'cat2_A', 'cat2_B', 'cat3_A', 'cat3_B', 'cat4_A', 'cat4_B', 'cat5_A', 'cat5_B', 'cat6_A', 'cat6_B', 'cat7_A', 'cat7_B', 'cat8_A', 'cat8_B', 'cat9_A', 'cat9_B', 'cat10_A', 'cat10_B', 'cat11_A', 'cat11_B', 'cat12_A', 'cat12_B', 'cat13_A', 'cat13_B', 'cat14_A', 'cat14_B', 'cat15_A', 'cat15_B', 'cat16_A', 'cat16_B', 'cat17_A', 'cat17_B', 'cat18_A', 'cat18_B', 'cat19_A', 'cat19_B', 'cat20_A', 'cat20_B', 'cat21_A', 'cat21_B', 'cat22_A', 'cat22_B', 'cat23_A', 'cat23_B', 'cat24_A', 'cat24_B', 'cat25_A', 'cat25_B', 'cat26_A', 'cat26_B', 'cat27_A', 'cat27_B', 'cat28_A', 'cat28_B', 'cat29_A', 'cat29_B', 'cat30_A', 'cat30_B', 'cat31_A', 'cat31_B', 'cat32_A', 'cat32_B', 'cat33_A', 'cat33_B', 'cat34_A', 'cat34_B', 'cat35_A', 'cat35_B', 'cat36_A', 'cat36_B', 'cat37_A', 'cat37_B', 'cat38_A', 'cat38_B', 'cat39_A', 'cat39_B', 'cat40_A', 'cat40_B', 'cat41_A', 'cat41_B', 'cat42_A', 'cat42_B', 'cat43_A', 'cat43_B', 'cat44_A', 'cat44_B', 'cat45_A', 'cat45_B', 'cat46_A', 'cat46_B', 'cat47_A', 'cat47_B', 'cat48_A', 'cat48_B', 'cat49_A', 'cat49_B', 'cat50_A', 'cat50_B', 'cat51_A', 'cat51_B', 'cat52_A', 'cat52_B', 'cat53_A', 'cat53_B', 'cat54_A', 'cat54_B', 'cat55_A', 'cat55_B', 'cat56_A', 'cat56_B', 'cat57_A', 'cat57_B', 'cat58_A', 'cat58_B', 'cat59_A', 'cat59_B', 'cat60_A', 'cat60_B', 'cat61_A', 'cat61_B', 'cat62_A', 'cat62_B', 'cat63_A', 'cat63_B', 'cat64_A', 'cat64_B', 'cat65_A', 'cat65_B', 'cat66_A', 'cat66_B', 'cat67_A', 'cat67_B', 'cat68_A', 'cat68_B', 'cat69_A', 'cat69_B', 'cat70_A', 'cat70_B', 'cat71_A', 'cat71_B', 'cat72_A', 'cat72_B', 'cat73_A', 'cat73_B', 'cat73_C', 'cat74_A', 'cat74_B', 'cat74_C', 'cat75_A', 'cat75_B', 'cat75_C', 'cat76_A', 'cat76_B', 'cat76_C', 'cat77_A', 'cat77_B', 'cat77_C', 'cat77_D', 'cat78_A', 'cat78_B', 'cat78_C', 'cat78_D', 'cat79_A', 'cat79_B', 'cat79_C', 'cat79_D', 'cat80_A', 'cat80_B', 'cat80_C', 'cat80_D', 'cat81_A', 'cat81_B', 'cat81_C', 'cat81_D', 'cat82_A', 'cat82_B', 'cat82_C', 'cat82_D', 'cat83_A', 'cat83_B', 'cat83_C', 'cat83_D', 'cat84_A', 'cat84_B', 'cat84_C', 'cat84_D', 'cat85_A', 'cat85_B', 'cat85_C', 'cat85_D', 'cat86_A', 'cat86_B', 'cat86_C', 'cat86_D', 'cat87_A', 'cat87_B', 'cat87_C', 'cat87_D', 'cat88_A', 'cat88_B', 'cat88_D', 'cat88_E', 'cat89_A', 'cat89_B', 'cat89_C', 'cat89_D', 'cat89_E', 'cat89_G', 'cat89_H', 'cat89_I', 'cat90_A', 'cat90_B', 'cat90_C', 'cat90_D', 'cat90_E', 'cat90_F', 'cat90_G', 'cat91_A', 'cat91_B', 'cat91_C', 'cat91_D', 'cat91_E', 'cat91_F', 'cat91_G', 'cat91_H', 'cat92_A', 'cat92_B', 'cat92_C', 'cat92_D', 'cat92_F', 'cat92_H', 'cat92_I', 'cat93_A', 'cat93_B', 'cat93_C', 'cat93_D', 'cat93_E', 'cat94_A', 'cat94_B', 'cat94_C', 'cat94_D', 'cat94_E', 'cat94_F', 'cat94_G', 'cat95_A', 'cat95_B', 'cat95_C', 'cat95_D', 'cat95_E', 'cat96_A', 'cat96_B', 'cat96_C', 'cat96_D', 'cat96_E', 'cat96_F', 'cat96_G', 'cat96_I', 'cat97_A', 'cat97_B', 'cat97_C', 'cat97_D', 'cat97_E', 'cat97_F', 'cat97_G', 'cat98_A', 'cat98_B', 'cat98_C', 'cat98_D', 'cat98_E', 'cat99_C', 'cat99_D', 'cat99_E', 'cat99_F', 'cat99_G', 'cat99_H', 'cat99_I', 'cat99_J', 'cat99_K', 'cat99_M', 'cat99_N', 'cat99_O', 'cat99_P', 'cat99_R', 'cat99_S', 'cat99_T', 'cat100_A', 'cat100_B', 'cat100_C', 'cat100_D', 'cat100_E', 'cat100_F', 'cat100_G', 'cat100_H', 'cat100_I', 'cat100_J', 'cat100_K', 'cat100_L', 'cat100_M', 'cat100_N', 'cat100_O', 'cat101_A', 'cat101_B', 'cat101_C', 'cat101_D', 'cat101_E', 'cat101_F', 'cat101_G', 'cat101_H', 'cat101_I', 'cat101_J', 'cat101_K', 'cat101_L', 'cat101_M', 'cat101_N', 'cat101_O', 'cat101_Q', 'cat101_R', 'cat101_S', 'cat101_U', 'cat102_A', 'cat102_B', 'cat102_C', 'cat102_D', 'cat102_E', 'cat102_F', 'cat102_G', 'cat102_H', 'cat102_J', 'cat103_A', 'cat103_B', 'cat103_C', 'cat103_D', 'cat103_E', 'cat103_F', 'cat103_G', 'cat103_H', 'cat103_I', 'cat103_J', 'cat103_K', 'cat103_L', 'cat103_N', 'cat104_A', 'cat104_B', 'cat104_C', 'cat104_D', 'cat104_E', 'cat104_F', 'cat104_G', 'cat104_H', 'cat104_I', 'cat104_J', 'cat104_K', 'cat104_L', 'cat104_M', 'cat104_N', 'cat104_O', 'cat104_P', 'cat104_Q', 'cat105_A', 'cat105_B', 'cat105_C', 'cat105_D', 'cat105_E', 'cat105_F', 'cat105_G', 'cat105_H', 'cat105_I', 'cat105_J', 'cat105_K', 'cat105_L', 'cat105_M', 'cat105_N', 'cat105_O', 'cat105_P', 'cat105_Q', 'cat105_R', 'cat105_S', 'cat105_T', 'cat106_A', 'cat106_B', 'cat106_C', 'cat106_D', 'cat106_E', 'cat106_F', 'cat106_G', 'cat106_H', 'cat106_I', 'cat106_J', 'cat106_K', 'cat106_L', 'cat106_M', 'cat106_N', 'cat106_O', 'cat106_P', 'cat106_R', 'cat107_A', 'cat107_B', 'cat107_C', 'cat107_D', 'cat107_E', 'cat107_F', 'cat107_G', 'cat107_H', 'cat107_I', 'cat107_J', 'cat107_K', 'cat107_L', 'cat107_M', 'cat107_N', 'cat107_O', 'cat107_P', 'cat107_Q', 'cat107_R', 'cat107_S', 'cat107_U', 'cat108_A', 'cat108_B', 'cat108_C', 'cat108_D', 'cat108_E', 'cat108_F', 'cat108_G', 'cat108_H', 'cat108_I', 'cat108_J', 'cat108_K', 'cat109_A', 'cat109_AA', 'cat109_AB', 'cat109_AE', 'cat109_AF', 'cat109_AG', 'cat109_AH', 'cat109_AI', 'cat109_AJ', 'cat109_AK', 'cat109_AL', 'cat109_AM', 'cat109_AN', 'cat109_AO', 'cat109_AP', 'cat109_AQ', 'cat109_AR', 'cat109_AS', 'cat109_AT', 'cat109_AU', 'cat109_AV', 'cat109_AW', 'cat109_AX', 'cat109_AY', 'cat109_B', 'cat109_BA', 'cat109_BB', 'cat109_BC', 'cat109_BD', 'cat109_BE', 'cat109_BF', 'cat109_BG', 'cat109_BH', 'cat109_BI', 'cat109_BJ', 'cat109_BK', 'cat109_BL', 'cat109_BM', 'cat109_BN', 'cat109_BO', 'cat109_BP', 'cat109_BQ', 'cat109_BR', 'cat109_BS', 'cat109_BT', 'cat109_BU', 'cat109_BV', 'cat109_BX', 'cat109_BY', 'cat109_C', 'cat109_CA', 'cat109_CB', 'cat109_CC', 'cat109_CD', 'cat109_CE', 'cat109_CF', 'cat109_CG', 'cat109_CH', 'cat109_CI', 'cat109_CJ', 'cat109_CK', 'cat109_CL', 'cat109_D', 'cat109_E', 'cat109_F', 'cat109_G', 'cat109_H', 'cat109_I', 'cat109_J', 'cat109_K', 'cat109_L', 'cat109_M', 'cat109_N', 'cat109_O', 'cat109_P', 'cat109_Q', 'cat109_R', 'cat109_S', 'cat109_T', 'cat109_U', 'cat109_V', 'cat109_X', 'cat109_Y', 'cat109_ZZ', 'cat110_A', 'cat110_AA', 'cat110_AB', 'cat110_AC', 'cat110_AD', 'cat110_AE', 'cat110_AF', 'cat110_AG', 'cat110_AH', 'cat110_AI', 'cat110_AJ', 'cat110_AK', 'cat110_AL', 'cat110_AM', 'cat110_AN', 'cat110_AO', 'cat110_AP', 'cat110_AR', 'cat110_AS', 'cat110_AT', 'cat110_AU', 'cat110_AV', 'cat110_AW', 'cat110_AX', 'cat110_AY', 'cat110_B', 'cat110_BA', 'cat110_BB', 'cat110_BC', 'cat110_BD', 'cat110_BE', 'cat110_BF', 'cat110_BG', 'cat110_BI', 'cat110_BJ', 'cat110_BK', 'cat110_BL', 'cat110_BM', 'cat110_BN', 'cat110_BO', 'cat110_BP', 'cat110_BQ', 'cat110_BR', 'cat110_BS', 'cat110_BT', 'cat110_BU', 'cat110_BV', 'cat110_BW', 'cat110_BX', 'cat110_BY', 'cat110_C', 'cat110_CB', 'cat110_CC', 'cat110_CD', 'cat110_CF', 'cat110_CG', 'cat110_CH', 'cat110_CI', 'cat110_CJ', 'cat110_CK', 'cat110_CL', 'cat110_CM', 'cat110_CN', 'cat110_CO', 'cat110_CP', 'cat110_CQ', 'cat110_CR', 'cat110_CS', 'cat110_CT', 'cat110_CU', 'cat110_CV', 'cat110_CW', 'cat110_CX', 'cat110_CY', 'cat110_D', 'cat110_DA', 'cat110_DB', 'cat110_DC', 'cat110_DD', 'cat110_DE', 'cat110_DF', 'cat110_DG', 'cat110_DH', 'cat110_DI', 'cat110_DJ', 'cat110_DK', 'cat110_DL', 'cat110_DM', 'cat110_DN', 'cat110_DO', 'cat110_DP', 'cat110_DQ', 'cat110_DR', 'cat110_DS', 'cat110_DT', 'cat110_DU', 'cat110_DV', 'cat110_DW', 'cat110_DX', 'cat110_DY', 'cat110_E', 'cat110_EA', 'cat110_EB', 'cat110_ED', 'cat110_EE', 'cat110_EF', 'cat110_EG', 'cat110_EH', 'cat110_EI', 'cat110_EJ', 'cat110_EK', 'cat110_EL', 'cat110_EM', 'cat110_G', 'cat110_H', 'cat110_I', 'cat110_J', 'cat110_K', 'cat110_L', 'cat110_N', 'cat110_O', 'cat110_P', 'cat110_Q', 'cat110_R', 'cat110_S', 'cat110_T', 'cat110_U', 'cat110_V', 'cat110_W', 'cat110_X', 'cat110_Y', 'cat111_A', 'cat111_B', 'cat111_C', 'cat111_D', 'cat111_E', 'cat111_F', 'cat111_G', 'cat111_I', 'cat111_K', 'cat111_M', 'cat111_O', 'cat111_Q', 'cat111_S', 'cat111_U', 'cat111_W', 'cat111_Y', 'cat112_A', 'cat112_AA', 'cat112_AB', 'cat112_AC', 'cat112_AD', 'cat112_AE', 'cat112_AF', 'cat112_AG', 'cat112_AH', 'cat112_AI', 'cat112_AJ', 'cat112_AK', 'cat112_AL', 'cat112_AM', 'cat112_AN', 'cat112_AO', 'cat112_AP', 'cat112_AQ', 'cat112_AR', 'cat112_AS', 'cat112_AT', 'cat112_AU', 'cat112_AV', 'cat112_AW', 'cat112_AX', 'cat112_AY', 'cat112_B', 'cat112_BA', 'cat112_C', 'cat112_D', 'cat112_E', 'cat112_F', 'cat112_G', 'cat112_H', 'cat112_I', 'cat112_J', 'cat112_K', 'cat112_L', 'cat112_M', 'cat112_N', 'cat112_O', 'cat112_P', 'cat112_Q', 'cat112_R', 'cat112_S', 'cat112_T', 'cat112_U', 'cat112_V', 'cat112_W', 'cat112_X', 'cat112_Y', 'cat113_A', 'cat113_AB', 'cat113_AC', 'cat113_AD', 'cat113_AE', 'cat113_AF', 'cat113_AG', 'cat113_AH', 'cat113_AI', 'cat113_AJ', 'cat113_AK', 'cat113_AL', 'cat113_AM', 'cat113_AN', 'cat113_AO', 'cat113_AP', 'cat113_AQ', 'cat113_AR', 'cat113_AS', 'cat113_AT', 'cat113_AU', 'cat113_AV', 'cat113_AW', 'cat113_AX', 'cat113_AY', 'cat113_B', 'cat113_BA', 'cat113_BB', 'cat113_BC', 'cat113_BD', 'cat113_BE', 'cat113_BF', 'cat113_BG', 'cat113_BH', 'cat113_BI', 'cat113_BJ', 'cat113_BK', 'cat113_BL', 'cat113_BM', 'cat113_BN', 'cat113_BO', 'cat113_C', 'cat113_E', 'cat113_F', 'cat113_G', 'cat113_H', 'cat113_I', 'cat113_J', 'cat113_K', 'cat113_L', 'cat113_M', 'cat113_N', 'cat113_O', 'cat113_P', 'cat113_Q', 'cat113_S', 'cat113_T', 'cat113_U', 'cat113_V', 'cat113_X', 'cat113_Y', 'cat114_A', 'cat114_B', 'cat114_C', 'cat114_D', 'cat114_E', 'cat114_F', 'cat114_G', 'cat114_I', 'cat114_J', 'cat114_L', 'cat114_N', 'cat114_O', 'cat114_Q', 'cat114_R', 'cat114_S', 'cat114_U', 'cat114_V', 'cat114_W', 'cat114_X', 'cat115_A', 'cat115_B', 'cat115_C', 'cat115_D', 'cat115_E', 'cat115_F', 'cat115_G', 'cat115_H', 'cat115_I', 'cat115_J', 'cat115_K', 'cat115_L', 'cat115_M', 'cat115_N', 'cat115_O', 'cat115_P', 'cat115_Q', 'cat115_R', 'cat115_S', 'cat115_T', 'cat115_U', 'cat115_W', 'cat115_X', 'cat116_AA', 'cat116_AB', 'cat116_AC', 'cat116_AD', 'cat116_AE', 'cat116_AF', 'cat116_AG', 'cat116_AH', 'cat116_AJ', 'cat116_AK', 'cat116_AL', 'cat116_AM', 'cat116_AN', 'cat116_AO', 'cat116_AP', 'cat116_AR', 'cat116_AS', 'cat116_AT', 'cat116_AU', 'cat116_AV', 'cat116_AW', 'cat116_AX', 'cat116_AY', 'cat116_B', 'cat116_BA', 'cat116_BB', 'cat116_BC', 'cat116_BD', 'cat116_BF', 'cat116_BG', 'cat116_BI', 'cat116_BK', 'cat116_BL', 'cat116_BM', 'cat116_BO', 'cat116_BP', 'cat116_BQ', 'cat116_BS', 'cat116_BT', 'cat116_BU', 'cat116_BV', 'cat116_BW', 'cat116_BX', 'cat116_BY', 'cat116_C', 'cat116_CA', 'cat116_CB', 'cat116_CC', 'cat116_CD', 'cat116_CE', 'cat116_CF', 'cat116_CG', 'cat116_CH', 'cat116_CI', 'cat116_CJ', 'cat116_CK', 'cat116_CL', 'cat116_CM', 'cat116_CN', 'cat116_CO', 'cat116_CP', 'cat116_CQ', 'cat116_CR', 'cat116_CS', 'cat116_CT', 'cat116_CU', 'cat116_CV', 'cat116_CW', 'cat116_CX', 'cat116_CY', 'cat116_D', 'cat116_DA', 'cat116_DC', 'cat116_DD', 'cat116_DE', 'cat116_DF', 'cat116_DG', 'cat116_DH', 'cat116_DI', 'cat116_DJ', 'cat116_DK', 'cat116_DL', 'cat116_DM', 'cat116_DN', 'cat116_DO', 'cat116_DP', 'cat116_DQ', 'cat116_DR', 'cat116_DS', 'cat116_DT', 'cat116_DU', 'cat116_DV', 'cat116_DW', 'cat116_DX', 'cat116_DY', 'cat116_E', 'cat116_EA', 'cat116_EB', 'cat116_EC', 'cat116_ED', 'cat116_EE', 'cat116_EF', 'cat116_EG', 'cat116_EH', 'cat116_EI', 'cat116_EJ', 'cat116_EK', 'cat116_EL', 'cat116_EN', 'cat116_EO', 'cat116_EP', 'cat116_EQ', 'cat116_ES', 'cat116_EU', 'cat116_EV', 'cat116_EW', 'cat116_EY', 'cat116_F', 'cat116_FA', 'cat116_FB', 'cat116_FC', 'cat116_FD', 'cat116_FE', 'cat116_FF', 'cat116_FG', 'cat116_FH', 'cat116_FI', 'cat116_FJ', 'cat116_FK', 'cat116_FL', 'cat116_FM', 'cat116_FN', 'cat116_FO', 'cat116_FP', 'cat116_FQ', 'cat116_FR', 'cat116_FS', 'cat116_FT', 'cat116_FU', 'cat116_FV', 'cat116_FW', 'cat116_FX', 'cat116_G', 'cat116_GA', 'cat116_GB', 'cat116_GC', 'cat116_GD', 'cat116_GE', 'cat116_GF', 'cat116_GG', 'cat116_GH', 'cat116_GI', 'cat116_GJ', 'cat116_GK', 'cat116_GL', 'cat116_GM', 'cat116_GN', 'cat116_GO', 'cat116_GP', 'cat116_GQ', 'cat116_GR', 'cat116_GS', 'cat116_GT', 'cat116_GU', 'cat116_GV', 'cat116_GW', 'cat116_GX', 'cat116_GY', 'cat116_H', 'cat116_HA', 'cat116_HB', 'cat116_HC', 'cat116_HD', 'cat116_HE', 'cat116_HF', 'cat116_HG', 'cat116_HH', 'cat116_HI', 'cat116_HJ', 'cat116_HK', 'cat116_HL', 'cat116_HM', 'cat116_HN', 'cat116_HO', 'cat116_HP', 'cat116_HQ', 'cat116_HR', 'cat116_HT', 'cat116_HU', 'cat116_HV', 'cat116_HW', 'cat116_HX', 'cat116_HY', 'cat116_I', 'cat116_IA', 'cat116_IB', 'cat116_IC', 'cat116_ID', 'cat116_IE', 'cat116_IF', 'cat116_IG', 'cat116_IH', 'cat116_II', 'cat116_IJ', 'cat116_IK', 'cat116_IL', 'cat116_IM', 'cat116_IN', 'cat116_IO', 'cat116_IP', 'cat116_IQ', 'cat116_IR', 'cat116_IT', 'cat116_IU', 'cat116_IV', 'cat116_IX', 'cat116_IY', 'cat116_J', 'cat116_JA', 'cat116_JB', 'cat116_JC', 'cat116_JD', 'cat116_JE', 'cat116_JF', 'cat116_JG', 'cat116_JH', 'cat116_JI', 'cat116_JJ', 'cat116_JK', 'cat116_JL', 'cat116_JM', 'cat116_JN', 'cat116_JO', 'cat116_JP', 'cat116_JQ', 'cat116_JR', 'cat116_JT', 'cat116_JU', 'cat116_JV', 'cat116_JW', 'cat116_JX', 'cat116_JY', 'cat116_K', 'cat116_KA', 'cat116_KB', 'cat116_KC', 'cat116_KD', 'cat116_KE', 'cat116_KF', 'cat116_KG', 'cat116_KH', 'cat116_KI', 'cat116_KJ', 'cat116_KK', 'cat116_KL', 'cat116_KM', 'cat116_KN', 'cat116_KP', 'cat116_KQ', 'cat116_KR', 'cat116_KS', 'cat116_KT', 'cat116_KU', 'cat116_KV', 'cat116_KW', 'cat116_KX', 'cat116_KY', 'cat116_L', 'cat116_LA', 'cat116_LB', 'cat116_LC', 'cat116_LD', 'cat116_LE', 'cat116_LF', 'cat116_LG', 'cat116_LH', 'cat116_LI', 'cat116_LJ', 'cat116_LK', 'cat116_LL', 'cat116_LM', 'cat116_LN', 'cat116_LO', 'cat116_LQ', 'cat116_LR', 'cat116_LT', 'cat116_LU', 'cat116_LV', 'cat116_LW', 'cat116_LX', 'cat116_LY', 'cat116_M', 'cat116_MA', 'cat116_MB', 'cat116_MC', 'cat116_MD', 'cat116_ME', 'cat116_MF', 'cat116_MG', 'cat116_MH', 'cat116_MI', 'cat116_MJ', 'cat116_MK', 'cat116_ML', 'cat116_MM', 'cat116_MN', 'cat116_MO', 'cat116_MP', 'cat116_MQ', 'cat116_MR', 'cat116_MS', 'cat116_MT', 'cat116_MU', 'cat116_MV', 'cat116_MW', 'cat116_O', 'cat116_P', 'cat116_Q', 'cat116_R', 'cat116_S', 'cat116_T', 'cat116_U', 'cat116_V', 'cat116_W', 'cat116_X', 'cat116_Y']\n"
     ]
    }
   ],
   "source": [
    "print(len(goodColumnNames))\n",
    "print(goodColumnNames)\n"
   ]
  },
  {
   "cell_type": "code",
   "execution_count": null,
   "metadata": {},
   "outputs": [
    {
     "name": "stdout",
     "output_type": "stream",
     "text": [
      "1 1935.6380306\n",
      "2 1783.44458903\n",
      "3 1783.49810038\n",
      "4 1782.39305084\n",
      "5 1778.66600942\n",
      "6 1777.17293285\n",
      "7 1600.78761119\n",
      "8 1516.97099976\n",
      "9 1516.34364716\n",
      "10 1515.95788931\n",
      "11 1499.22560253\n",
      "12 1487.3672367\n",
      "13 1455.21870124\n",
      "14 1454.54189909\n",
      "15 1453.4068176\n",
      "16 1451.14625244\n",
      "17 1450.79737476\n",
      "18 1449.70428971\n",
      "19 1439.69354978\n",
      "20 1438.56765346\n",
      "21 1437.77271007\n",
      "22 1425.24670891\n",
      "23 1419.32019021\n",
      "24 1416.91599649\n",
      "25 1417.66223874\n",
      "26 1414.65020183\n",
      "27 1412.98684794\n",
      "28 1412.66019587\n",
      "29 1408.17063133\n"
     ]
    }
   ],
   "source": [
    "from sklearn import linear_model\n",
    "from sklearn.model_selection import train_test_split\n",
    "X_train, X_test, y_train, y_test = train_test_split(X, y, test_size=0.20)\n",
    "def meanAvgErrorByComponents(components, X_train, X_test, y_train, y_test):\n",
    "    pca = PCA(n_components=components)\n",
    "    \n",
    "    pca.fit(X_train)\n",
    "    X_train = pca.transform(X_train)\n",
    "    X_train = StandardScaler().fit_transform(X_train)\n",
    "    X_test = pca.transform(X_test)\n",
    "    X_test = StandardScaler().fit_transform(X_test)\n",
    "    reg = linear_model.LinearRegression()\n",
    "    reg.fit(X_train,y_train)\n",
    "    y_pred = reg.predict(X_test)\n",
    "    mae = sum(abs(y_pred-y_test))/y_pred.shape[0]\n",
    "    return mae\n",
    "for i in range(60):\n",
    "    print (i+1, meanAvgErrorByComponents(i+1, X_train, X_test, y_train, y_test))"
   ]
  },
  {
   "cell_type": "code",
   "execution_count": null,
   "metadata": {},
   "outputs": [],
   "source": []
  }
 ],
 "metadata": {
  "kernelspec": {
   "display_name": "Python 3",
   "language": "python",
   "name": "python3"
  },
  "language_info": {
   "codemirror_mode": {
    "name": "ipython",
    "version": 3
   },
   "file_extension": ".py",
   "mimetype": "text/x-python",
   "name": "python",
   "nbconvert_exporter": "python",
   "pygments_lexer": "ipython3",
   "version": "3.6.3"
  }
 },
 "nbformat": 4,
 "nbformat_minor": 2
}
