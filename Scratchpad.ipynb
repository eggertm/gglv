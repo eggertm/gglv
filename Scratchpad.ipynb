{
 "cells": [
  {
   "cell_type": "code",
   "execution_count": 2,
   "metadata": {},
   "outputs": [
    {
     "data": {
      "text/plain": [
       "Int64Index([     4,      6,      9,     12,     15,     17,     21,     28,\n",
       "                32,     43,\n",
       "            ...\n",
       "            587583, 587587, 587596, 587610, 587613, 587617, 587621, 587627,\n",
       "            587629, 587634],\n",
       "           dtype='int64', name='id', length=125546)"
      ]
     },
     "execution_count": 2,
     "metadata": {},
     "output_type": "execute_result"
    }
   ],
   "source": [
    "import pandas\n",
    "x = pandas.read_csv('test.csv',index_col='id')\n",
    "x.index"
   ]
  },
  {
   "cell_type": "code",
   "execution_count": null,
   "metadata": {},
   "outputs": [],
   "source": [
    "from sklearn import linear_model\n",
    "from sklearn.decomposition import PCA\n",
    "from sklearn.model_selection import train_test_split\n",
    "import matplotlib.pyplot\n",
    "#X_train, X_test, y_train, y_test = train_test_split(X, y, test_size=0.20)\n",
    "\n",
    "\n",
    "#maes =[]\n",
    "def meanAbsErrorByComponents(components, hidden_layer, X_train, X_test, y_train, y_test):\n",
    "    pca = PCA(n_components=components)\n",
    "    \n",
    "    pca.fit(X_train)\n",
    "    X_train = pca.transform(X_train)\n",
    "    #X_train = StandardScaler().fit_transform(X_train)\n",
    "    X_test = pca.transform(X_test)\n",
    "    #X_test = StandardScaler().fit_transform(X_test)\n",
    "    reg =  MLPRegressor(hidden_layer_sizes=hidden_layer)\n",
    "    reg.fit(X_train,y_train)\n",
    "    y_pred = reg.predict(X_test)\n",
    "    #y_pred = y_pred**2\n",
    "    mae = sum(abs(y_pred-(y_test)))/y_pred.shape[0]\n",
    "    #mae = sum(abs(y_pred-(y_test)))/y_pred.shape[0]\n",
    "    return mae\n",
    "X_train, X_test, y_train, y_test = train_test_split(X, y, test_size=0.20)\n",
    "maes = numpy.zeros((5,8))\n",
    "for j, components in enumerate(range(110,150,5)):\n",
    "    for i, nodes in enumerate(range(150,250,20)):\n",
    "        t = time.time()\n",
    "        m =  meanAbsErrorByComponents(components,(nodes,), X_train, X_test, y_train, y_test)\n",
    "        elapsed = time.time()-t\n",
    "        maes[i,j] = m\n",
    "        #maes.append((i,j,m)) #components, \n",
    "        print (i,j,m,elapsed)\n",
    "\n",
    "matplotlib.pyplot.plot(maes)\n",
    "matplotlib.pyplot.show()"
   ]
  },
  {
   "cell_type": "code",
   "execution_count": null,
   "metadata": {},
   "outputs": [],
   "source": [
    "from sklearn import linear_model\n",
    "from sklearn.model_selection import train_test_split\n",
    "X_train, X_test, y_train, y_test = train_test_split(X, y, test_size=0.20)\n",
    "from sklearn.neural_network import MLPRegressor\n",
    "from sklearn.ensemble import ExtraTreesRegressor\n",
    "from sklearn.neighbors import KNeighborsRegressor\n",
    "from sklearn.linear_model import LinearRegression, RidgeCV\n",
    "from sklearn.decomposition import PCA\n",
    "import time, numpy\n",
    "# Fit estimators\n",
    "ESTIMATORS = {\n",
    "   # \"Extra trees\": ExtraTreesRegressor(n_estimators=10,  max_features=32, \n",
    "   #                                    criterion='mae'),\n",
    "   # \"K-nn\": KNeighborsRegressor(),\n",
    "    \"Linear regression\": LinearRegression(),\n",
    "   # \"Ridge\": RidgeCV(),\n",
    "    \"MLP\":  MLPRegressor(hidden_layer_sizes=(150,))\n",
    "}\n",
    "\n",
    "y_test_predict = {}\n",
    "\n",
    "for name, estimator in ESTIMATORS.items():\n",
    "    t_0 = time.time()\n",
    "    print(name)\n",
    "    if name in ('K-nn',\"Linear regression\"):\n",
    "        if name == 'MLP':\n",
    "            components = 115\n",
    "        elif name == 'K-nn':\n",
    "            components = 40\n",
    "        else:\n",
    "            components = 115\n",
    "        pca = PCA(n_components=components)\n",
    "    \n",
    "        pca.fit(X_train)\n",
    "        X_train_ = pca.transform(X_train)\n",
    "        X_test_ = pca.transform(X_test)\n",
    "    else:\n",
    "        X_train_ = X_train\n",
    "        X_test_ = X_test\n",
    "    estimator.fit(X_train_, y_train)\n",
    "    \n",
    "    t_1 = time.time()\n",
    "    print(f'Time elapsed for fitting of model {t_1 - t_0:.3f} sec')\n",
    "    y_test_predict[name] = estimator.predict(X_test_)\n",
    "    print(f'Time elapsed for prediction {time.time() - t_1:.3f} sec')\n",
    "    error = numpy.sum(numpy.abs(y_test_predict[name] - y_test)) / len(y_test)\n",
    "    print(f'error: {error:.3f}')\n"
   ]
  },
  {
   "cell_type": "code",
   "execution_count": null,
   "metadata": {},
   "outputs": [],
   "source": [
    "y_test_predict = {}\n",
    "for i in range(1,61):\n",
    "    pca = PCA(n_components=i)\n",
    "    \n",
    "    pca.fit(X_train)\n",
    "    X_train = pca.transform(X_train)\n",
    "    #X_train = StandardScaler().fit_transform(X_train)\n",
    "    X_test = pca.transform(X_test)\n",
    "    t_0 = time.time()\n",
    "    print(i)\n",
    "    estimator.fit(X_train, y_train)\n",
    "    \n",
    "    t_1 = time.time()\n",
    "    print(f'Time elapsed for fitting of model {t_1 - t_0:.3f} sec')\n",
    "    y_test_predict[i] = estimator.predict(X_test)\n",
    "    print(f'Time elapsed for prediction {time.time() - t_1:.3f} sec')\n",
    "    \n",
    "for components, y_hat in y_test_predict.items():\n",
    "    error = numpy.sum(numpy.abs(y_hat - y_test)) / len(y_test)\n",
    "    print(f'{components}, error: {error:.3f}')"
   ]
  },
  {
   "cell_type": "code",
   "execution_count": 3,
   "metadata": {},
   "outputs": [
    {
     "name": "stdout",
     "output_type": "stream",
     "text": [
      "Linear regression, error: 1341.522\n"
     ]
    }
   ],
   "source": [
    "import numpy\n",
    "for name, y_hat in y_test_predict.items():\n",
    "    error = numpy.sum(numpy.abs(y_hat - y_test)) / len(y_test)\n",
    "    print(f'{name}, error: {error:.3f}')"
   ]
  },
  {
   "cell_type": "code",
   "execution_count": 14,
   "metadata": {},
   "outputs": [
    {
     "data": {
      "image/png": "[encoded data removed]",
      "text/plain": [
       "<matplotlib.figure.Figure at 0x1f2800f2748>"
      ]
     },
     "metadata": {},
     "output_type": "display_data"
    }
   ],
   "source": [
    "import matplotlib.pyplot\n",
    "\n",
    "matplotlib.pyplot.plot(range(1,101),maes)\n",
    "matplotlib.pyplot.show()"
   ]
  },
  {
   "cell_type": "code",
   "execution_count": 23,
   "metadata": {},
   "outputs": [
    {
     "data": {
      "image/png": "[encoded data removed]",
      "text/plain": [
       "<matplotlib.figure.Figure at 0x1f2c4347f60>"
      ]
     },
     "metadata": {},
     "output_type": "display_data"
    }
   ],
   "source": [
    "#This shows that adding PCA components beyond >115 does not have much effect.\n",
    "matplotlib.pyplot.plot(range(1,161,4),maes)\n",
    "matplotlib.pyplot.show()"
   ]
  },
  {
   "cell_type": "code",
   "execution_count": 25,
   "metadata": {},
   "outputs": [],
   "source": [
    "import tensorflow, time\n",
    "import os\n",
    "import numpy\n",
    "from keras.models import Sequential\n",
    "from keras.layers import Dense, Activation, BatchNormalization\n",
    "#from keras.callbacks import ModelCheckpoint\n",
    "from keras.layers import Dropout\n",
    "import keras.callbacks\n",
    "from keras import optimizers\n",
    "from keras import regularizers\n",
    "from keras.constraints import maxnorm\n",
    "from sklearn.decomposition import PCA\n",
    "from sklearn.feature_selection import VarianceThreshold, SelectKBest, f_regression\n",
    "from sklearn.model_selection import train_test_split\n",
    "\n",
    "def ContColumns(X):\n",
    "    contColumns = [c for c in X.columns if c.startswith('cont')]\n",
    "    return X[contColumns]\n",
    "\n",
    "def CatColumns(X):\n",
    "    catColumns = [c for c in X.columns if c.startswith('cat')]\n",
    "    return X[catColumns]\n",
    "\n",
    "def PCACont(X, components =6):\n",
    "    pcaIn = ContColumns(X)\n",
    "    ret = PCA(n_components = components).fit_transform(pcaIn)\n",
    "    #print(X.columns)\n",
    "    r = X.drop(columns=pcaIn.columns)\n",
    "    for i in range(components):\n",
    "        r['pca%d'%(i+1)]=ret[:,i]\n",
    "    #print (r.columns)\n",
    "    return r\n",
    "\n",
    "def SelectCategorical(X,thresh=0.05):\n",
    "    kbIn = CatColumns(X)\n",
    "    kb = VarianceThreshold(thresh)\n",
    "    ret = kb.fit_transform(kbIn)\n",
    "    r = X.drop(columns=kbIn.columns)\n",
    "    for i in range(ret.shape[1]):\n",
    "        r[\"cat%d\"%(i+1)] = ret[:,i]\n",
    "    return r\n",
    "\n",
    "\n",
    "class PrepareData:\n",
    "    def __init__(self, pcaCount, catK):\n",
    "        self.catK = catK\n",
    "        self.pcaCount = pcaCount\n",
    "        \n",
    "    def fit(self, X, y):\n",
    "        pcaIn = ContColumns(X)\n",
    "        self.pca = PCA(n_components = self.pcaCount)\n",
    "        self.pca.fit(pcaIn)\n",
    "        self.kbest = SelectKBest(score_func = f_regression, k = self.catK)\n",
    "        kbIn = CatColumns(X)\n",
    "        yIn = numpy.log1p(y)\n",
    "        self.kbest.fit(kbIn, yIn)\n",
    "    def transform(self, X):\n",
    "        pcaIn = ContColumns(X)\n",
    "        kbIn = CatColumns(X)\n",
    "        r1 = self.kbest.transform(kbIn)\n",
    "        r2 = self.pca.transform(pcaIn)\n",
    "        return numpy.c_[r1,r2]\n",
    "    \n",
    "class CustomMLPRegressor:\n",
    "    \"\"\"provide a similar interface to the sklearn regressors\"\"\"\n",
    "    def __init__(self, nodes, earlyStopping, dropout):\n",
    "      \n",
    "        if type(nodes) is int:\n",
    "            nodes = (nodes,)\n",
    "        self.nodes = nodes\n",
    "        self.dropout = dropout\n",
    "        self.earlyStopping = earlyStopping\n",
    "        \n",
    "    def fit(self, X, y):\n",
    "        inputDim = X_train.shape[1]\n",
    "        model = Sequential()\n",
    "        for i, nodeCount in enumerate(self.nodes):\n",
    "            if i == 0:\n",
    "                if len(self.nodes) == 1:\n",
    "                    self.model.add(Dense(nodeCount, input_dim = inputDim, activation='relu'))\n",
    "                else:\n",
    "                    self.model.add(Dense(nodeCount, input_dim = inputDim, activation='relu', kernel_constraint = maxnorm(3)))\n",
    "                    if dropout:\n",
    "                        model.add(Dropout(dropout))\n",
    "            else:\n",
    "                if len(self.nodes) > i+1:\n",
    "                    self.model.add(Dense(nodeCount,  activation='relu', kernel_constraint = maxnorm(3)))\n",
    "                    if dropout:\n",
    "                        model.add(Dropout(dropout))\n",
    "                else:\n",
    "                    self.model.add(Dense(nodeCount,  activation='relu'))\n",
    "        model.add(Dense(1))\n",
    "        opt = optimizers.Nadam()\n",
    "        model.compile(loss='mean_absolute_error', optimizer=opt)\n",
    "        self.model = model\n",
    "        \n",
    "        callback_list = []\n",
    "        filepath=\"weights-best.hdf5\"\n",
    "        checkpoint = keras.callbacks.ModelCheckpoint(filepath, monitor='val_loss', verbose=0, save_best_only=True, mode='min')\n",
    "        callback_list.append(checkpoint)\n",
    "        if self.earlyStopping:\n",
    "            callback_list.append(keras.callbacks.EarlyStopping(min_delta=self.earlyStopping, patience=5,verbose=0))\n",
    "        history=model.fit(X_train, y_train, \n",
    "              epochs=epochs, batch_size=1000,\n",
    "              verbose=0,validation_split=0.2,callbacks=callback_list)\n",
    "        bestModel = keras.models.load_model('weights-best.hdf5')\n",
    "        self.model =bestModel\n",
    "        return self\n",
    "    def predict(self, X):\n",
    "        return self.model.predict(X)\n",
    "\n",
    "    \n",
    "    \n",
    "def TestMLP(X_train, X_test, y_train, y_test, nodes, contFeatures, catFeatures,lr, epochs, earlyStopping = 0.1, dropout = 0.2):\n",
    "    \n",
    "  \n",
    "    inputNodes = X_train.shape[1]\n",
    "    filepath=\"weights-best.hdf5\"\n",
    "    \n",
    "    model = Sequential()\n",
    "    model.add(Dense(nodes, input_dim=X_train.shape[1], activation='relu', kernel_constraint = maxnorm(3)))\n",
    "    model.add(Dropout(dropout))#model.add(BatchNormalization())\n",
    "    model.add(Dense(64, activation='relu', kernel_constraint = maxnorm(3)))\n",
    "    model.add(Dropout(dropout))\n",
    "    model.add(Dense(16, activation='relu'))\n",
    "   # model.add(Dropout(dropout))\n",
    "    model.add(Dense(1))\n",
    "    opt = optimizers.Nadam()\n",
    "    model.compile(loss='mean_absolute_error', optimizer=opt)\n",
    "    t = time.time()\n",
    "    #print (X_train.shape)\n",
    "    callback_list = []\n",
    "    checkpoint = keras.callbacks.ModelCheckpoint(filepath, monitor='val_loss', verbose=0, save_best_only=True, mode='min')\n",
    "    callback_list.append(checkpoint)\n",
    "    if earlyStopping:\n",
    "        \n",
    "        callback_list.append(keras.callbacks.EarlyStopping(min_delta=earlyStopping, patience=5,verbose=0))\n",
    "   \n",
    "    score = model.evaluate(X_test, y_test, verbose=0)\n",
    "    #print('Time taken:', time.time()-t)\n",
    "    bestModel = keras.models.load_model('weights-best.hdf5')\n",
    "    scoreBest = bestModel.evaluate(X_test, y_test, verbose=0)\n",
    "    try:\n",
    "        os.rename('weights-best.hdf5','weights-best-%.2f-%d-%d-%.2f.hdf5'%(scoreBest, inputNodes, nodes, dropout))\n",
    "    except FileExistsError:\n",
    "        pass #\n",
    "    if not contFeatures:\n",
    "        pd = None\n",
    "    return scoreBest, bestModel, time.time()-t, pd\n"
   ]
  },
  {
   "cell_type": "code",
   "execution_count": null,
   "metadata": {},
   "outputs": [
    {
     "name": "stdout",
     "output_type": "stream",
     "text": [
      "1168.501731334547 6 340 794.2447257041931\n"
     ]
    }
   ],
   "source": [
    "results = numpy.zeros((5,5))\n",
    "minResults = numpy.zeros((5,5))\n",
    "minModel = None\n",
    "minScore = None\n",
    "X_train, X_test, y_train, y_test = train_test_split(X.astype('float32'), y.astype('float32'), test_size=0.20)\n",
    "dropout = 0.2\n",
    "#nodes = 600\n",
    "for i in range(5):\n",
    "#    contFeatures = 5+i\n",
    "    dropout = ((i+2)*0.05)\n",
    "    for j in range(5):\n",
    "#        catFeatures = 300+j*20\n",
    "        nodes = j*50+400\n",
    "        scores = 0\n",
    "        for z in range(4):\n",
    "            score, model,duration, preparer = TestMLP(X_train, X_test, y_train, y_test, nodes,0,0, 0.01, 100,1, dropout = dropout)\n",
    "            if z== 0:\n",
    "                minResults[(i,j)] = score\n",
    "            elif minResults[(i,j)] > score:\n",
    "                minResults[(i,j)] = score\n",
    "            if minModel is None:\n",
    "                minModel = model, preparer\n",
    "                minScore = score\n",
    "            elif minScore > score:\n",
    "                minModel = model, preparer\n",
    "                minScore = score\n",
    "            scores += score\n",
    "            print (score, contFeatures, catFeatures, duration)\n",
    "        results[(i,j)]=scores/4\n",
    "        print (contFeatures,catFeatures,scores/4,minResults[(i,j)])\n",
    "\n",
    "matplotlib.pyplot.imshow(results,cmap='gray')\n",
    "matplotlib.pyplot.colorbar()\n",
    "matplotlib.pyplot.show()\n",
    "matplotlib.pyplot.imshow(minResults,cmap='gray')\n",
    "matplotlib.pyplot.colorbar()\n",
    "matplotlib.pyplot.show()\n"
   ]
  },
  {
   "cell_type": "code",
   "execution_count": 10,
   "metadata": {},
   "outputs": [
    {
     "data": {
      "image/png": "[encoded data removed]",
      "text/plain": [
       "<Figure size 432x288 with 2 Axes>"
      ]
     },
     "metadata": {},
     "output_type": "display_data"
    }
   ],
   "source": [
    "matplotlib.pyplot.imshow(results,cmap='gray')\n",
    "matplotlib.pyplot.colorbar()\n",
    "matplotlib.pyplot.show()"
   ]
  },
  {
   "cell_type": "code",
   "execution_count": 7,
   "metadata": {},
   "outputs": [
    {
     "name": "stderr",
     "output_type": "stream",
     "text": [
      "C:\\Users\\emagnusson\\AppData\\Local\\Continuum\\anaconda3\\lib\\site-packages\\sklearn\\feature_selection\\univariate_selection.py:298: RuntimeWarning: invalid value encountered in true_divide\n",
      "  corr /= X_norms\n",
      "C:\\Users\\emagnusson\\AppData\\Local\\Continuum\\anaconda3\\lib\\site-packages\\scipy\\stats\\_distn_infrastructure.py:879: RuntimeWarning: invalid value encountered in greater\n",
      "  return (self.a < x) & (x < self.b)\n",
      "C:\\Users\\emagnusson\\AppData\\Local\\Continuum\\anaconda3\\lib\\site-packages\\scipy\\stats\\_distn_infrastructure.py:879: RuntimeWarning: invalid value encountered in less\n",
      "  return (self.a < x) & (x < self.b)\n",
      "C:\\Users\\emagnusson\\AppData\\Local\\Continuum\\anaconda3\\lib\\site-packages\\scipy\\stats\\_distn_infrastructure.py:1821: RuntimeWarning: invalid value encountered in less_equal\n",
      "  cond2 = cond0 & (x <= self.a)\n"
     ]
    },
    {
     "ename": "IndexError",
     "evalue": "too many indices for array",
     "output_type": "error",
     "traceback": [
      "\u001b[1;31m---------------------------------------------------------------------------\u001b[0m",
      "\u001b[1;31mIndexError\u001b[0m                                Traceback (most recent call last)",
      "\u001b[1;32m<ipython-input-7-f68b6916fef3>\u001b[0m in \u001b[0;36m<module>\u001b[1;34m()\u001b[0m\n\u001b[0;32m      7\u001b[0m     \u001b[0mearlyStopping\u001b[0m \u001b[1;33m=\u001b[0m \u001b[0mi\u001b[0m\u001b[1;33m/\u001b[0m\u001b[1;36m20\u001b[0m\u001b[1;33m\u001b[0m\u001b[0m\n\u001b[0;32m      8\u001b[0m     \u001b[0mscore\u001b[0m\u001b[1;33m,\u001b[0m \u001b[0mmodel\u001b[0m\u001b[1;33m,\u001b[0m\u001b[0mduration\u001b[0m \u001b[1;33m=\u001b[0m \u001b[0mTestMLP\u001b[0m\u001b[1;33m(\u001b[0m\u001b[0mnodes\u001b[0m\u001b[1;33m,\u001b[0m \u001b[0mcontFeatures\u001b[0m\u001b[1;33m,\u001b[0m \u001b[0mcatFeatures\u001b[0m\u001b[1;33m,\u001b[0m \u001b[1;36m0.01\u001b[0m\u001b[1;33m,\u001b[0m \u001b[1;36m5000\u001b[0m\u001b[1;33m,\u001b[0m\u001b[0mearlyStopping\u001b[0m\u001b[1;33m)\u001b[0m\u001b[1;33m\u001b[0m\u001b[0m\n\u001b[1;32m----> 9\u001b[1;33m     \u001b[0mresults\u001b[0m\u001b[1;33m[\u001b[0m\u001b[0mi\u001b[0m\u001b[1;33m,\u001b[0m\u001b[0mj\u001b[0m\u001b[1;33m]\u001b[0m\u001b[1;33m=\u001b[0m\u001b[0mscore\u001b[0m\u001b[1;33m\u001b[0m\u001b[0m\n\u001b[0m\u001b[0;32m     10\u001b[0m     \u001b[0mprint\u001b[0m\u001b[1;33m(\u001b[0m\u001b[1;34m'Nodes: %d, Cont Features: %d, Cat Features: %d EarlyStopping: %f score:%f, time taken: %f'\u001b[0m\u001b[1;33m%\u001b[0m\u001b[1;33m(\u001b[0m\u001b[0mnodes\u001b[0m\u001b[1;33m,\u001b[0m\u001b[0mcontFeatures\u001b[0m\u001b[1;33m,\u001b[0m\u001b[0mcatFeatures\u001b[0m\u001b[1;33m,\u001b[0m \u001b[0mearlyStopping\u001b[0m\u001b[1;33m,\u001b[0m \u001b[0mscore\u001b[0m\u001b[1;33m,\u001b[0m\u001b[0mduration\u001b[0m\u001b[1;33m)\u001b[0m\u001b[1;33m)\u001b[0m\u001b[1;33m\u001b[0m\u001b[0m\n\u001b[0;32m     11\u001b[0m \u001b[0mmatplotlib\u001b[0m\u001b[1;33m.\u001b[0m\u001b[0mplot\u001b[0m\u001b[1;33m(\u001b[0m\u001b[0mresults\u001b[0m\u001b[1;33m)\u001b[0m\u001b[1;33m\u001b[0m\u001b[0m\n",
      "\u001b[1;31mIndexError\u001b[0m: too many indices for array"
     ]
    }
   ],
   "source": [
    "\n",
    "nodes = 240\n",
    "results = numpy.zeros(20)\n",
    "contFeatures = 7\n",
    "catFeatures = 320\n",
    "for i in range(20):\n",
    "    earlyStopping = i/20\n",
    "    score, model,duration = TestMLP(nodes, contFeatures, catFeatures, 0.01, 5000,earlyStopping)\n",
    "    results[i]=score\n",
    "    print('Nodes: %d, Cont Features: %d, Cat Features: %d EarlyStopping: %f score:%f, time taken: %f'%(nodes,contFeatures,catFeatures, earlyStopping, score,duration))\n",
    "matplotlib.plot(results)\n",
    "matplotlib.show()"
   ]
  },
  {
   "cell_type": "code",
   "execution_count": 33,
   "metadata": {},
   "outputs": [
    {
     "name": "stdout",
     "output_type": "stream",
     "text": [
      "Nodes: 180, Features: 5, score:1165.946454, time taken: 494.491331\n",
      "Nodes: 180, Features: 6, score:1170.088243, time taken: 488.015754\n",
      "Nodes: 180, Features: 7, score:1169.656619, time taken: 437.630160\n",
      "Nodes: 180, Features: 8, score:1166.436361, time taken: 523.540694\n",
      "Nodes: 180, Features: 9, score:1169.822499, time taken: 429.128842\n",
      "Nodes: 190, Features: 5, score:1164.560578, time taken: 717.752027\n",
      "Nodes: 190, Features: 6, score:1170.709478, time taken: 547.541823\n",
      "Nodes: 190, Features: 7, score:1168.899075, time taken: 503.653122\n",
      "Nodes: 190, Features: 8, score:1171.802191, time taken: 452.427900\n",
      "Nodes: 190, Features: 9, score:1166.947225, time taken: 701.926186\n",
      "Nodes: 200, Features: 5, score:1163.549708, time taken: 702.664116\n",
      "Nodes: 200, Features: 6, score:1166.270027, time taken: 630.590034\n",
      "Nodes: 200, Features: 7, score:1167.079435, time taken: 641.436945\n",
      "Nodes: 200, Features: 8, score:1165.216837, time taken: 683.421852\n",
      "Nodes: 200, Features: 9, score:1177.060018, time taken: 816.385163\n",
      "Nodes: 210, Features: 5, score:1167.044010, time taken: 708.908780\n",
      "Nodes: 210, Features: 6, score:1167.732039, time taken: 634.350367\n",
      "Nodes: 210, Features: 7, score:1171.365706, time taken: 562.020975\n",
      "Nodes: 210, Features: 8, score:1163.201116, time taken: 795.161965\n",
      "Nodes: 210, Features: 9, score:1160.582798, time taken: 780.069064\n",
      "Nodes: 220, Features: 5, score:1170.337051, time taken: 538.767131\n",
      "Nodes: 220, Features: 6, score:1164.162368, time taken: 764.583154\n",
      "Nodes: 220, Features: 7, score:1169.272875, time taken: 585.542145\n",
      "Nodes: 220, Features: 8, score:1166.362309, time taken: 629.655931\n",
      "Nodes: 220, Features: 9, score:1173.275005, time taken: 457.303131\n",
      "Nodes: 230, Features: 5, score:1165.269574, time taken: 637.318731\n",
      "Nodes: 230, Features: 6, score:1168.147295, time taken: 549.493563\n",
      "Nodes: 230, Features: 7, score:1163.385494, time taken: 735.226863\n",
      "Nodes: 230, Features: 8, score:1174.937415, time taken: 572.230427\n",
      "Nodes: 230, Features: 9, score:1172.629117, time taken: 472.911761\n",
      "Nodes: 240, Features: 5, score:1172.260574, time taken: 626.686253\n",
      "Nodes: 240, Features: 6, score:1162.067318, time taken: 794.437818\n",
      "Nodes: 240, Features: 7, score:1165.634351, time taken: 768.652263\n",
      "Nodes: 240, Features: 8, score:1162.569245, time taken: 1036.438808\n",
      "Nodes: 240, Features: 9, score:1166.104768, time taken: 764.254305\n"
     ]
    }
   ],
   "source": [
    "for nodes in range(180,250,10):\n",
    "    for contFeatures in range(5,10):\n",
    "        score, model,duration = TestMLP(nodes, contFeatures, 0.01, 0.01, 4000)\n",
    "        print('Nodes: %d, Features: %d, score:%f, time taken: %f'%(nodes,contFeatures,score,duration))\n"
   ]
  },
  {
   "cell_type": "code",
   "execution_count": 37,
   "metadata": {},
   "outputs": [
    {
     "ename": "KeyboardInterrupt",
     "evalue": "",
     "output_type": "error",
     "traceback": [
      "\u001b[1;31m---------------------------------------------------------------------------\u001b[0m",
      "\u001b[1;31mKeyboardInterrupt\u001b[0m                         Traceback (most recent call last)",
      "\u001b[1;32m<ipython-input-37-82ed9b25f04e>\u001b[0m in \u001b[0;36m<module>\u001b[1;34m()\u001b[0m\n\u001b[0;32m      1\u001b[0m \u001b[1;32mfor\u001b[0m \u001b[0mnodes\u001b[0m \u001b[1;32min\u001b[0m \u001b[0mrange\u001b[0m\u001b[1;33m(\u001b[0m\u001b[1;36m210\u001b[0m\u001b[1;33m,\u001b[0m\u001b[1;36m280\u001b[0m\u001b[1;33m,\u001b[0m\u001b[1;36m10\u001b[0m\u001b[1;33m)\u001b[0m\u001b[1;33m:\u001b[0m\u001b[1;33m\u001b[0m\u001b[0m\n\u001b[0;32m      2\u001b[0m     \u001b[1;32mfor\u001b[0m \u001b[0mcontFeatures\u001b[0m \u001b[1;32min\u001b[0m \u001b[0mrange\u001b[0m\u001b[1;33m(\u001b[0m\u001b[1;36m5\u001b[0m\u001b[1;33m,\u001b[0m\u001b[1;36m10\u001b[0m\u001b[1;33m)\u001b[0m\u001b[1;33m:\u001b[0m\u001b[1;33m\u001b[0m\u001b[0m\n\u001b[1;32m----> 3\u001b[1;33m         \u001b[0mscore\u001b[0m\u001b[1;33m,\u001b[0m \u001b[0mmodel\u001b[0m\u001b[1;33m,\u001b[0m\u001b[0mduration\u001b[0m \u001b[1;33m=\u001b[0m \u001b[0mTestMLP\u001b[0m\u001b[1;33m(\u001b[0m\u001b[0mnodes\u001b[0m\u001b[1;33m,\u001b[0m \u001b[0mcontFeatures\u001b[0m\u001b[1;33m,\u001b[0m \u001b[1;36m0.01\u001b[0m\u001b[1;33m,\u001b[0m \u001b[1;36m0.001\u001b[0m\u001b[1;33m,\u001b[0m \u001b[1;36m4000\u001b[0m\u001b[1;33m)\u001b[0m\u001b[1;33m\u001b[0m\u001b[0m\n\u001b[0m\u001b[0;32m      4\u001b[0m         \u001b[0mprint\u001b[0m\u001b[1;33m(\u001b[0m\u001b[1;34m'Nodes: %d, Features: %d, score:%f, time taken: %f'\u001b[0m\u001b[1;33m%\u001b[0m\u001b[1;33m(\u001b[0m\u001b[0mnodes\u001b[0m\u001b[1;33m,\u001b[0m\u001b[0mcontFeatures\u001b[0m\u001b[1;33m,\u001b[0m\u001b[0mscore\u001b[0m\u001b[1;33m,\u001b[0m\u001b[0mduration\u001b[0m\u001b[1;33m)\u001b[0m\u001b[1;33m)\u001b[0m\u001b[1;33m\u001b[0m\u001b[0m\n",
      "\u001b[1;32m<ipython-input-32-8dd223b4786d>\u001b[0m in \u001b[0;36mTestMLP\u001b[1;34m(nodes, contFeatures, catThreshold, lr, epochs)\u001b[0m\n\u001b[0;32m     60\u001b[0m     history=model.fit(X_train, y_train, \n\u001b[0;32m     61\u001b[0m                       \u001b[0mepochs\u001b[0m\u001b[1;33m=\u001b[0m\u001b[0mepochs\u001b[0m\u001b[1;33m,\u001b[0m \u001b[0mbatch_size\u001b[0m\u001b[1;33m=\u001b[0m\u001b[1;36m1000\u001b[0m\u001b[1;33m,\u001b[0m\u001b[1;33m\u001b[0m\u001b[0m\n\u001b[1;32m---> 62\u001b[1;33m                       verbose=0, validation_data=(X_val, y_val),callbacks=callbacks)\n\u001b[0m\u001b[0;32m     63\u001b[0m     \u001b[0mscore\u001b[0m \u001b[1;33m=\u001b[0m \u001b[0mmodel\u001b[0m\u001b[1;33m.\u001b[0m\u001b[0mevaluate\u001b[0m\u001b[1;33m(\u001b[0m\u001b[0mX_test\u001b[0m\u001b[1;33m,\u001b[0m \u001b[0my_test\u001b[0m\u001b[1;33m,\u001b[0m \u001b[0mverbose\u001b[0m\u001b[1;33m=\u001b[0m\u001b[1;36m0\u001b[0m\u001b[1;33m)\u001b[0m\u001b[1;33m\u001b[0m\u001b[0m\n\u001b[0;32m     64\u001b[0m     \u001b[1;31m#print('Time taken:', time.time()-t)\u001b[0m\u001b[1;33m\u001b[0m\u001b[1;33m\u001b[0m\u001b[0m\n",
      "\u001b[1;32mC:\\ProgramData\\Anaconda3\\lib\\site-packages\\keras\\models.py\u001b[0m in \u001b[0;36mfit\u001b[1;34m(self, x, y, batch_size, epochs, verbose, callbacks, validation_split, validation_data, shuffle, class_weight, sample_weight, initial_epoch, steps_per_epoch, validation_steps, **kwargs)\u001b[0m\n\u001b[0;32m    961\u001b[0m                               \u001b[0minitial_epoch\u001b[0m\u001b[1;33m=\u001b[0m\u001b[0minitial_epoch\u001b[0m\u001b[1;33m,\u001b[0m\u001b[1;33m\u001b[0m\u001b[0m\n\u001b[0;32m    962\u001b[0m                               \u001b[0msteps_per_epoch\u001b[0m\u001b[1;33m=\u001b[0m\u001b[0msteps_per_epoch\u001b[0m\u001b[1;33m,\u001b[0m\u001b[1;33m\u001b[0m\u001b[0m\n\u001b[1;32m--> 963\u001b[1;33m                               validation_steps=validation_steps)\n\u001b[0m\u001b[0;32m    964\u001b[0m \u001b[1;33m\u001b[0m\u001b[0m\n\u001b[0;32m    965\u001b[0m     def evaluate(self, x=None, y=None,\n",
      "\u001b[1;32mC:\\ProgramData\\Anaconda3\\lib\\site-packages\\keras\\engine\\training.py\u001b[0m in \u001b[0;36mfit\u001b[1;34m(self, x, y, batch_size, epochs, verbose, callbacks, validation_split, validation_data, shuffle, class_weight, sample_weight, initial_epoch, steps_per_epoch, validation_steps, **kwargs)\u001b[0m\n\u001b[0;32m   1703\u001b[0m                               \u001b[0minitial_epoch\u001b[0m\u001b[1;33m=\u001b[0m\u001b[0minitial_epoch\u001b[0m\u001b[1;33m,\u001b[0m\u001b[1;33m\u001b[0m\u001b[0m\n\u001b[0;32m   1704\u001b[0m                               \u001b[0msteps_per_epoch\u001b[0m\u001b[1;33m=\u001b[0m\u001b[0msteps_per_epoch\u001b[0m\u001b[1;33m,\u001b[0m\u001b[1;33m\u001b[0m\u001b[0m\n\u001b[1;32m-> 1705\u001b[1;33m                               validation_steps=validation_steps)\n\u001b[0m\u001b[0;32m   1706\u001b[0m \u001b[1;33m\u001b[0m\u001b[0m\n\u001b[0;32m   1707\u001b[0m     def evaluate(self, x=None, y=None,\n",
      "\u001b[1;32mC:\\ProgramData\\Anaconda3\\lib\\site-packages\\keras\\engine\\training.py\u001b[0m in \u001b[0;36m_fit_loop\u001b[1;34m(self, f, ins, out_labels, batch_size, epochs, verbose, callbacks, val_f, val_ins, shuffle, callback_metrics, initial_epoch, steps_per_epoch, validation_steps)\u001b[0m\n\u001b[0;32m   1233\u001b[0m                         \u001b[0mins_batch\u001b[0m\u001b[1;33m[\u001b[0m\u001b[0mi\u001b[0m\u001b[1;33m]\u001b[0m \u001b[1;33m=\u001b[0m \u001b[0mins_batch\u001b[0m\u001b[1;33m[\u001b[0m\u001b[0mi\u001b[0m\u001b[1;33m]\u001b[0m\u001b[1;33m.\u001b[0m\u001b[0mtoarray\u001b[0m\u001b[1;33m(\u001b[0m\u001b[1;33m)\u001b[0m\u001b[1;33m\u001b[0m\u001b[0m\n\u001b[0;32m   1234\u001b[0m \u001b[1;33m\u001b[0m\u001b[0m\n\u001b[1;32m-> 1235\u001b[1;33m                     \u001b[0mouts\u001b[0m \u001b[1;33m=\u001b[0m \u001b[0mf\u001b[0m\u001b[1;33m(\u001b[0m\u001b[0mins_batch\u001b[0m\u001b[1;33m)\u001b[0m\u001b[1;33m\u001b[0m\u001b[0m\n\u001b[0m\u001b[0;32m   1236\u001b[0m                     \u001b[1;32mif\u001b[0m \u001b[1;32mnot\u001b[0m \u001b[0misinstance\u001b[0m\u001b[1;33m(\u001b[0m\u001b[0mouts\u001b[0m\u001b[1;33m,\u001b[0m \u001b[0mlist\u001b[0m\u001b[1;33m)\u001b[0m\u001b[1;33m:\u001b[0m\u001b[1;33m\u001b[0m\u001b[0m\n\u001b[0;32m   1237\u001b[0m                         \u001b[0mouts\u001b[0m \u001b[1;33m=\u001b[0m \u001b[1;33m[\u001b[0m\u001b[0mouts\u001b[0m\u001b[1;33m]\u001b[0m\u001b[1;33m\u001b[0m\u001b[0m\n",
      "\u001b[1;32mC:\\ProgramData\\Anaconda3\\lib\\site-packages\\keras\\backend\\tensorflow_backend.py\u001b[0m in \u001b[0;36m__call__\u001b[1;34m(self, inputs)\u001b[0m\n\u001b[0;32m   2476\u001b[0m         \u001b[0msession\u001b[0m \u001b[1;33m=\u001b[0m \u001b[0mget_session\u001b[0m\u001b[1;33m(\u001b[0m\u001b[1;33m)\u001b[0m\u001b[1;33m\u001b[0m\u001b[0m\n\u001b[0;32m   2477\u001b[0m         updated = session.run(fetches=fetches, feed_dict=feed_dict,\n\u001b[1;32m-> 2478\u001b[1;33m                               **self.session_kwargs)\n\u001b[0m\u001b[0;32m   2479\u001b[0m         \u001b[1;32mreturn\u001b[0m \u001b[0mupdated\u001b[0m\u001b[1;33m[\u001b[0m\u001b[1;33m:\u001b[0m\u001b[0mlen\u001b[0m\u001b[1;33m(\u001b[0m\u001b[0mself\u001b[0m\u001b[1;33m.\u001b[0m\u001b[0moutputs\u001b[0m\u001b[1;33m)\u001b[0m\u001b[1;33m]\u001b[0m\u001b[1;33m\u001b[0m\u001b[0m\n\u001b[0;32m   2480\u001b[0m \u001b[1;33m\u001b[0m\u001b[0m\n",
      "\u001b[1;32mC:\\ProgramData\\Anaconda3\\lib\\site-packages\\tensorflow\\python\\client\\session.py\u001b[0m in \u001b[0;36mrun\u001b[1;34m(self, fetches, feed_dict, options, run_metadata)\u001b[0m\n\u001b[0;32m    787\u001b[0m     \u001b[1;32mtry\u001b[0m\u001b[1;33m:\u001b[0m\u001b[1;33m\u001b[0m\u001b[0m\n\u001b[0;32m    788\u001b[0m       result = self._run(None, fetches, feed_dict, options_ptr,\n\u001b[1;32m--> 789\u001b[1;33m                          run_metadata_ptr)\n\u001b[0m\u001b[0;32m    790\u001b[0m       \u001b[1;32mif\u001b[0m \u001b[0mrun_metadata\u001b[0m\u001b[1;33m:\u001b[0m\u001b[1;33m\u001b[0m\u001b[0m\n\u001b[0;32m    791\u001b[0m         \u001b[0mproto_data\u001b[0m \u001b[1;33m=\u001b[0m \u001b[0mtf_session\u001b[0m\u001b[1;33m.\u001b[0m\u001b[0mTF_GetBuffer\u001b[0m\u001b[1;33m(\u001b[0m\u001b[0mrun_metadata_ptr\u001b[0m\u001b[1;33m)\u001b[0m\u001b[1;33m\u001b[0m\u001b[0m\n",
      "\u001b[1;32mC:\\ProgramData\\Anaconda3\\lib\\site-packages\\tensorflow\\python\\client\\session.py\u001b[0m in \u001b[0;36m_run\u001b[1;34m(self, handle, fetches, feed_dict, options, run_metadata)\u001b[0m\n\u001b[0;32m    995\u001b[0m     \u001b[1;32mif\u001b[0m \u001b[0mfinal_fetches\u001b[0m \u001b[1;32mor\u001b[0m \u001b[0mfinal_targets\u001b[0m\u001b[1;33m:\u001b[0m\u001b[1;33m\u001b[0m\u001b[0m\n\u001b[0;32m    996\u001b[0m       results = self._do_run(handle, final_targets, final_fetches,\n\u001b[1;32m--> 997\u001b[1;33m                              feed_dict_string, options, run_metadata)\n\u001b[0m\u001b[0;32m    998\u001b[0m     \u001b[1;32melse\u001b[0m\u001b[1;33m:\u001b[0m\u001b[1;33m\u001b[0m\u001b[0m\n\u001b[0;32m    999\u001b[0m       \u001b[0mresults\u001b[0m \u001b[1;33m=\u001b[0m \u001b[1;33m[\u001b[0m\u001b[1;33m]\u001b[0m\u001b[1;33m\u001b[0m\u001b[0m\n",
      "\u001b[1;32mC:\\ProgramData\\Anaconda3\\lib\\site-packages\\tensorflow\\python\\client\\session.py\u001b[0m in \u001b[0;36m_do_run\u001b[1;34m(self, handle, target_list, fetch_list, feed_dict, options, run_metadata)\u001b[0m\n\u001b[0;32m   1130\u001b[0m     \u001b[1;32mif\u001b[0m \u001b[0mhandle\u001b[0m \u001b[1;32mis\u001b[0m \u001b[1;32mNone\u001b[0m\u001b[1;33m:\u001b[0m\u001b[1;33m\u001b[0m\u001b[0m\n\u001b[0;32m   1131\u001b[0m       return self._do_call(_run_fn, self._session, feed_dict, fetch_list,\n\u001b[1;32m-> 1132\u001b[1;33m                            target_list, options, run_metadata)\n\u001b[0m\u001b[0;32m   1133\u001b[0m     \u001b[1;32melse\u001b[0m\u001b[1;33m:\u001b[0m\u001b[1;33m\u001b[0m\u001b[0m\n\u001b[0;32m   1134\u001b[0m       return self._do_call(_prun_fn, self._session, handle, feed_dict,\n",
      "\u001b[1;32mC:\\ProgramData\\Anaconda3\\lib\\site-packages\\tensorflow\\python\\client\\session.py\u001b[0m in \u001b[0;36m_do_call\u001b[1;34m(self, fn, *args)\u001b[0m\n\u001b[0;32m   1137\u001b[0m   \u001b[1;32mdef\u001b[0m \u001b[0m_do_call\u001b[0m\u001b[1;33m(\u001b[0m\u001b[0mself\u001b[0m\u001b[1;33m,\u001b[0m \u001b[0mfn\u001b[0m\u001b[1;33m,\u001b[0m \u001b[1;33m*\u001b[0m\u001b[0margs\u001b[0m\u001b[1;33m)\u001b[0m\u001b[1;33m:\u001b[0m\u001b[1;33m\u001b[0m\u001b[0m\n\u001b[0;32m   1138\u001b[0m     \u001b[1;32mtry\u001b[0m\u001b[1;33m:\u001b[0m\u001b[1;33m\u001b[0m\u001b[0m\n\u001b[1;32m-> 1139\u001b[1;33m       \u001b[1;32mreturn\u001b[0m \u001b[0mfn\u001b[0m\u001b[1;33m(\u001b[0m\u001b[1;33m*\u001b[0m\u001b[0margs\u001b[0m\u001b[1;33m)\u001b[0m\u001b[1;33m\u001b[0m\u001b[0m\n\u001b[0m\u001b[0;32m   1140\u001b[0m     \u001b[1;32mexcept\u001b[0m \u001b[0merrors\u001b[0m\u001b[1;33m.\u001b[0m\u001b[0mOpError\u001b[0m \u001b[1;32mas\u001b[0m \u001b[0me\u001b[0m\u001b[1;33m:\u001b[0m\u001b[1;33m\u001b[0m\u001b[0m\n\u001b[0;32m   1141\u001b[0m       \u001b[0mmessage\u001b[0m \u001b[1;33m=\u001b[0m \u001b[0mcompat\u001b[0m\u001b[1;33m.\u001b[0m\u001b[0mas_text\u001b[0m\u001b[1;33m(\u001b[0m\u001b[0me\u001b[0m\u001b[1;33m.\u001b[0m\u001b[0mmessage\u001b[0m\u001b[1;33m)\u001b[0m\u001b[1;33m\u001b[0m\u001b[0m\n",
      "\u001b[1;32mC:\\ProgramData\\Anaconda3\\lib\\site-packages\\tensorflow\\python\\client\\session.py\u001b[0m in \u001b[0;36m_run_fn\u001b[1;34m(session, feed_dict, fetch_list, target_list, options, run_metadata)\u001b[0m\n\u001b[0;32m   1119\u001b[0m         return tf_session.TF_Run(session, options,\n\u001b[0;32m   1120\u001b[0m                                  \u001b[0mfeed_dict\u001b[0m\u001b[1;33m,\u001b[0m \u001b[0mfetch_list\u001b[0m\u001b[1;33m,\u001b[0m \u001b[0mtarget_list\u001b[0m\u001b[1;33m,\u001b[0m\u001b[1;33m\u001b[0m\u001b[0m\n\u001b[1;32m-> 1121\u001b[1;33m                                  status, run_metadata)\n\u001b[0m\u001b[0;32m   1122\u001b[0m \u001b[1;33m\u001b[0m\u001b[0m\n\u001b[0;32m   1123\u001b[0m     \u001b[1;32mdef\u001b[0m \u001b[0m_prun_fn\u001b[0m\u001b[1;33m(\u001b[0m\u001b[0msession\u001b[0m\u001b[1;33m,\u001b[0m \u001b[0mhandle\u001b[0m\u001b[1;33m,\u001b[0m \u001b[0mfeed_dict\u001b[0m\u001b[1;33m,\u001b[0m \u001b[0mfetch_list\u001b[0m\u001b[1;33m)\u001b[0m\u001b[1;33m:\u001b[0m\u001b[1;33m\u001b[0m\u001b[0m\n",
      "\u001b[1;31mKeyboardInterrupt\u001b[0m: "
     ]
    }
   ],
   "source": [
    "for nodes in range(210,280,10):\n",
    "    for contFeatures in range(5,10):\n",
    "        score, model,duration = TestMLP(nodes, contFeatures, 0.01, 0.001, 4000)\n",
    "        print('Nodes: %d, Features: %d, score:%f, time taken: %f'%(nodes,contFeatures,score,duration))"
   ]
  },
  {
   "cell_type": "code",
   "execution_count": 8,
   "metadata": {},
   "outputs": [
    {
     "data": {
      "text/plain": [
       "1164.6785668281548"
      ]
     },
     "execution_count": 8,
     "metadata": {},
     "output_type": "execute_result"
    }
   ],
   "source": [
    "score"
   ]
  },
  {
   "cell_type": "code",
   "execution_count": 5,
   "metadata": {},
   "outputs": [],
   "source": [
    "import numpy\n",
    "import scipy\n",
    "import pandas\n",
    "x = pandas.read_csv('train.csv',index_col='id')\n",
    "y = x['loss'].values\n",
    "x = x.drop(columns=['loss'])\n",
    "xTest = pandas.read_csv('test.csv',index_col='id')\n",
    "\n",
    "Xcont = x.drop(columns=[col for col in x.columns if col.startswith('cat')])\n",
    "Xcat = x.drop(columns=[col for col in x.columns if col.startswith('cont')])\n",
    "Xcombined = pandas.concat((x,xTest))\n",
    "XcombinedDummies = pandas.get_dummies(Xcombined,drop_first=True,columns = [col for col in x.columns if col.startswith('cat')])\n",
    "X = XcombinedDummies.iloc[:x.shape[0],:]\n",
    "Xtest = XcombinedDummies.iloc[x.shape[0]:,:]\n",
    "\n",
    "from sklearn.model_selection import train_test_split\n",
    "X_train, X_test, y_train, y_test = train_test_split(X, y, test_size=0.20)\n",
    "import keras\n",
    "import matplotlib.pyplot as plt\n",
    "class CustomMLPRegressor:\n",
    "    \"\"\"provide a similar interface to the sklearn regressors\"\"\"\n",
    "    def LoadFromFile(self, filename):\n",
    "        self.model = keras.models.load_model(filename)\n",
    "        \n",
    "    def __init__(self, nodes, earlyStopping, dropout):\n",
    "      \n",
    "        if type(nodes) is int:\n",
    "            nodes = (nodes,)\n",
    "        self.nodes = nodes\n",
    "        self.dropout = dropout\n",
    "        self.earlyStopping = earlyStopping\n",
    "        \n",
    "    def fit(self, X, y):\n",
    "        #print (X,y)\n",
    "        inputDim = X.shape[1]\n",
    "        model = Sequential()\n",
    "        self.model = model\n",
    "        for i, nodeCount in enumerate(self.nodes):\n",
    "            if i == 0:\n",
    "                if len(self.nodes) == 1:\n",
    "                    self.model.add(Dense(nodeCount, input_dim = inputDim, activation='relu'))\n",
    "                else:\n",
    "                    self.model.add(Dense(nodeCount, input_dim = inputDim, activation='relu', kernel_constraint = maxnorm(3)))\n",
    "                    if self.dropout:\n",
    "                        model.add(Dropout(self.dropout))\n",
    "            else:\n",
    "                if len(self.nodes) > i+1:\n",
    "                    self.model.add(Dense(nodeCount,  activation='relu', kernel_constraint = maxnorm(3)))\n",
    "                    if self.dropout:\n",
    "                        model.add(Dropout(self.dropout))\n",
    "                else:\n",
    "                    self.model.add(Dense(nodeCount,  activation='relu'))\n",
    "        model.add(Dense(1))\n",
    "        opt = optimizers.Nadam()\n",
    "        model.compile(loss='mae', optimizer=opt)\n",
    "        #self.model = model\n",
    "        \n",
    "        callback_list = []\n",
    "        filepath=\"weights-best.hdf5\"\n",
    "        checkpoint = keras.callbacks.ModelCheckpoint(filepath, monitor='val_loss', verbose=0, save_best_only=True, mode='min')\n",
    "        callback_list.append(checkpoint)\n",
    "        if self.earlyStopping:\n",
    "            callback_list.append(keras.callbacks.EarlyStopping(min_delta=self.earlyStopping, patience=5,verbose=0))\n",
    "        history=model.fit(X.values.astype('float32'), y.astype('float32'), \n",
    "              epochs=EPOCHS, batch_size=1000,\n",
    "              verbose=0,validation_split=0.2,callbacks=callback_list)\n",
    "        bestModel = keras.models.load_model('weights-best.hdf5')\n",
    "        self.model =bestModel\n",
    "        return self\n",
    "    def predict(self, X):\n",
    "        #print ('predicting')\n",
    "        ret =  self.model.predict(X.astype('float32'))\n",
    "        #print (ret.shape)\n",
    "        return ret.flatten()\n",
    "def CreateCSV(filename, estimator, X_test, tf=False):\n",
    "    y_test =estimator.predict(X_test)\n",
    "    ofile =open(filename,\"w\")\n",
    "    ofile.write(\"id,loss\\n\")\n",
    "    if tf:\n",
    "        y_test = numpy.expm1(y_test)\n",
    "\n",
    "    for ix,yval in zip(X_test.index, y_test):\n",
    "        ofile.write(\"%d,%.3f\\n\"%(ix,yval))\n",
    "    ofile.close()\n",
    "\n",
    "mlp = CustomMLPRegressor((400,50,10),0.1,0.3)\n",
    "mlp.LoadFromFile(\"weights-best-1151.89-0.30-(400, 50, 10).hdf5\")\n",
    "CreateCSV('test_submission_1151.csv',mlp,Xtest)\n",
    "#y_hat = mlp.predict(X_test)\n",
    "#from scipy import stats\n",
    "\n",
    "# Plot of predicted values versus the true values\n",
    "#plt.figure()\n",
    "#plt.scatter(y_test, y_hat)\n",
    "#plt.plot([y_test.min(), y_test.max()], [y_test.min(), y_test.max()], 'r')\n",
    "#plt.ylabel('Predicted - loss')\n",
    "#plt.xlabel('Actual - loss')\n",
    "\n",
    "# Plot of residuals\n",
    "#plt.figure()\n",
    "#plt.scatter(estimator.predict(X_train_), stats.zscore(estimator.predict(X_train_) - y_train_), c='b', s=40, alpha=0.5)\n",
    "#plt.scatter(y_hat, stats.zscore(y_hat - y_test), c='g', s=40)\n",
    "#plt.hlines(y=0, xmin=0, xmax=20)\n",
    "#plt.title('Residual Plot using  test(green) data')\n",
    "#plt.ylabel('Residuals')\n",
    "#plt.xlabel('Loss')\n",
    "#plt.show()"
   ]
  },
  {
   "cell_type": "code",
   "execution_count": 8,
   "metadata": {},
   "outputs": [],
   "source": [
    "import pickle\n",
    "f = open(\"results.pckl\",\"rb\")\n",
    "results = pickle.load(f)"
   ]
  },
  {
   "cell_type": "code",
   "execution_count": 10,
   "metadata": {},
   "outputs": [],
   "source": [
    "results400 = [x for x in results if x[0]==400]"
   ]
  },
  {
   "cell_type": "code",
   "execution_count": 29,
   "metadata": {},
   "outputs": [],
   "source": [
    "\n",
    "results30 = [x for x in results if abs(x[1] - 0.3)< 0.01]"
   ]
  },
  {
   "cell_type": "code",
   "execution_count": 31,
   "metadata": {},
   "outputs": [],
   "source": [
    "results30 = [results30[1]]+[results30[4]]"
   ]
  },
  {
   "cell_type": "code",
   "execution_count": 20,
   "metadata": {},
   "outputs": [],
   "source": [
    "#results20 = results20[2:]\n",
    "results20 = [results20[2]]+results20[5:]"
   ]
  },
  {
   "cell_type": "code",
   "execution_count": 28,
   "metadata": {},
   "outputs": [
    {
     "data": {
      "text/plain": [
       "[[400, 0.1, 1099.1994715851074, 1155.3476019734699],\n",
       " [400, 0.1, 1143.0598115468106, 1166.0024882197479],\n",
       " [400, 0.1, 1113.0639175515391, 1157.9551182049256],\n",
       " [400, 0.15000000000000002, 1135.6897099762102, 1163.0742800992123],\n",
       " [400, 0.15000000000000002, 1095.3516829969801, 1156.1002882903172],\n",
       " [400, 0.15000000000000002, 1135.0787874495943, 1164.116818001325],\n",
       " [400, 0.2, 1121.1294441726745, 1161.1796335388224],\n",
       " [400, 0.2, 1135.047726785896, 1162.0683303374078],\n",
       " [400, 0.2, 1112.807268989295, 1156.7020887315243],\n",
       " [400, 0.25, 1110.099020723831, 1156.4297873301414],\n",
       " [400, 0.25, 1122.6703099158244, 1159.0686061427102],\n",
       " [400, 0.25, 1121.8540941965443, 1159.4466465353498],\n",
       " [400, 0.30000000000000004, 1114.2444869256028, 1157.9217288461457],\n",
       " [400, 0.30000000000000004, 1108.123549256042, 1153.919180424025],\n",
       " [400, 0.30000000000000004, 1106.2679848414157, 1154.4576305063033],\n",
       " [450, 0.1, 1126.2725891427262, 1161.342068317449],\n",
       " [450, 0.1, 1115.2958719214328, 1157.2834662790226],\n",
       " [450, 0.1, 1091.928362440472, 1155.7093029089629],\n",
       " [450, 0.15000000000000002, 1124.1023654688397, 1159.6415465124967],\n",
       " [450, 0.15000000000000002, 1104.4901551758767, 1158.4403719443108],\n",
       " [450, 0.15000000000000002, 1135.274660856988, 1162.5646838562348],\n",
       " [450, 0.2, 1152.2957263242258, 1170.9536458700434],\n",
       " [450, 0.2, 1089.8858382370954, 1156.9288449194237],\n",
       " [450, 0.2, 1107.510603644311, 1156.3234037394107],\n",
       " [450, 0.25, 1101.8972977258525, 1157.8466451241068],\n",
       " [450, 0.25, 1109.4072442673787, 1156.0688125325787],\n",
       " [450, 0.25, 1095.3616484487136, 1154.580649637548],\n",
       " [450, 0.30000000000000004, 1111.242993638159, 1156.7393066848326],\n",
       " [450, 0.30000000000000004, 1107.4771350592282, 1155.347958325505],\n",
       " [450, 0.30000000000000004, 1134.615479201024, 1161.8878516777513],\n",
       " [500, 0.1, 1117.440671722292, 1159.5298050939905],\n",
       " [500, 0.1, 1125.74635990168, 1160.0664661475857],\n",
       " [500, 0.1, 1104.9795486745052, 1157.0753645052946],\n",
       " [500, 0.15000000000000002, 1142.674301842672, 1165.123348239941],\n",
       " [500, 0.15000000000000002, 1095.353478126182, 1156.2674571937812],\n",
       " [500, 0.15000000000000002, 1146.2864498211866, 1167.3027386749773],\n",
       " [500, 0.2, 1121.6297293290306, 1159.3099764728465]]"
      ]
     },
     "execution_count": 28,
     "metadata": {},
     "output_type": "execute_result"
    }
   ],
   "source": [
    "results"
   ]
  },
  {
   "cell_type": "code",
   "execution_count": 39,
   "metadata": {},
   "outputs": [],
   "source": [
    "results20[-1]=(500,1157.82)\n"
   ]
  },
  {
   "cell_type": "code",
   "execution_count": 32,
   "metadata": {},
   "outputs": [],
   "source": [
    "results30 = [(x[0],x[3]) for x in results30]\n",
    "results20 = [(x[0],x[3]) for x in results20]\n",
    "results25 = [(x[0],x[3]) for x in results25]"
   ]
  },
  {
   "cell_type": "code",
   "execution_count": 40,
   "metadata": {},
   "outputs": [
    {
     "data": {
      "image/png": "[encoded data removed]",
      "text/plain": [
       "<Figure size 432x288 with 1 Axes>"
      ]
     },
     "metadata": {},
     "output_type": "display_data"
    }
   ],
   "source": [
    "plt.plot([r[0] for r in results20],[r[1] for r in results20])\n",
    "plt.plot([r[0] for r in results25],[r[1] for r in results25])\n",
    "plt.plot([r[0] for r in results30],[r[1] for r in results30])\n",
    "plt.show()"
   ]
  },
  {
   "cell_type": "code",
   "execution_count": 36,
   "metadata": {},
   "outputs": [
    {
     "data": {
      "text/plain": [
       "[(400, 1153.919180424025), (450, 1155.347958325505)]"
      ]
     },
     "execution_count": 36,
     "metadata": {},
     "output_type": "execute_result"
    }
   ],
   "source": [
    "results30"
   ]
  },
  {
   "cell_type": "code",
   "execution_count": null,
   "metadata": {},
   "outputs": [],
   "source": []
  }
 ],
 "metadata": {
  "kernelspec": {
   "display_name": "Python 3",
   "language": "python",
   "name": "python3"
  },
  "language_info": {
   "codemirror_mode": {
    "name": "ipython",
    "version": 3
   },
   "file_extension": ".py",
   "mimetype": "text/x-python",
   "name": "python",
   "nbconvert_exporter": "python",
   "pygments_lexer": "ipython3",
   "version": "3.6.5"
  }
 },
 "nbformat": 4,
 "nbformat_minor": 2
}
